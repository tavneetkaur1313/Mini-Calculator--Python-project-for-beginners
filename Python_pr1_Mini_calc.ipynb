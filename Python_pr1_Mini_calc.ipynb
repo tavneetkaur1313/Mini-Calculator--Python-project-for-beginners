{
 "cells": [
  {
   "cell_type": "code",
   "execution_count": 6,
   "id": "bfbdb692",
   "metadata": {},
   "outputs": [
    {
     "name": "stdout",
     "output_type": "stream",
     "text": [
      "Please select an operation:\n",
      "1. Addition \n",
      " 2. Subtraction \n",
      " 3. Multiplication \n",
      " 4. Division \n",
      " 5. Average \n",
      "\n",
      "( 67 + 34 ) / 2 = 50.5\n"
     ]
    }
   ],
   "source": [
    "# Mini Python Project - Simple Calculator\n",
    "\n",
    "# steps to build a calculator\n",
    "# 1. functions for operations\n",
    "# 2. user input\n",
    "# 3. print result\n",
    "\n",
    "# 1\n",
    "# Function to add two numbers\n",
    "\n",
    "def add(num1, num2):\n",
    "    return num1 + num2\n",
    "\n",
    "\n",
    "# Function to subtract two numbers\n",
    "\n",
    "def add(num1, num2):\n",
    "    return num1 - num2\n",
    "\n",
    "\n",
    "# Function to multiply two numbers\n",
    "\n",
    "def add(num1, num2):\n",
    "    return num1 * num2\n",
    "\n",
    "# Function to divide two numbers\n",
    "\n",
    "def add(num1, num2):\n",
    "    return num1 / num2\n",
    "\n",
    "# Function to calculate the average\n",
    "\n",
    "def avg(num1, num2):\n",
    "    return (num1 + num2)/2\n",
    "\n",
    "\n",
    "\n",
    "# 2\n",
    "\n",
    "print(\"Please select an operation:\\n\" \"1. Addition \\n \" \"2. Subtraction \\n \" \"3. Multiplication \\n \" \"4. Division \\n \" \"5. Average \\n\")\n",
    "\n",
    "select = int(input(\"Select an operation from 1,2,3,4,5: \"))\n",
    "\n",
    "number1 = int(input(\"Enter first number: \"))\n",
    "number2 = int(input(\"Enter second number: \"))\n",
    "\n",
    "# 3 : Print the result\n",
    "\n",
    "if select == 1:\n",
    "    print(number1, \"+\", number2, \"=\",\n",
    "           add(number1, number2))\n",
    "    \n",
    "elif select == 2:\n",
    "    print(number1, \"-\", number2, \"=\",\n",
    "           sub(number1, number2))\n",
    "    \n",
    "elif select == 3:\n",
    "    print(number1, \"*\", number2, \"=\",\n",
    "           multiply(number1, number2))\n",
    "    \n",
    "elif select == 4:\n",
    "    print(number1, \"/\", number2, \"=\",\n",
    "           divide(number1, number2))\n",
    "    \n",
    "elif select == 5:\n",
    "    print(\"(\",number1, \"+\", number2, \")\", \"/\", \"2\", \"=\",\n",
    "           avg(number1, number2))\n",
    "    \n",
    "else:\n",
    "    print(\"Invalid operation! Please select again: \")"
   ]
  }
 ],
 "metadata": {
  "kernelspec": {
   "display_name": "Python 3",
   "language": "python",
   "name": "python3"
  },
  "language_info": {
   "codemirror_mode": {
    "name": "ipython",
    "version": 3
   },
   "file_extension": ".py",
   "mimetype": "text/x-python",
   "name": "python",
   "nbconvert_exporter": "python",
   "pygments_lexer": "ipython3",
   "version": "3.13.3"
  }
 },
 "nbformat": 4,
 "nbformat_minor": 5
}
